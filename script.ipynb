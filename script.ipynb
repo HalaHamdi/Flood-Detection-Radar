{
 "cells": [
  {
   "cell_type": "code",
   "execution_count": 37,
   "metadata": {},
   "outputs": [],
   "source": [
    "try:\n",
    "    import google.colab\n",
    "    google.colab.drive.mount('/content/drive/')\n",
    "except:\n",
    "    pass\n",
    "\n",
    "from sklearn import svm\n",
    "import numpy as np\n",
    "from mlpath import mlquest as mlq\n",
    "from sklearn.model_selection import RepeatedKFold\n",
    "from sklearn.metrics import f1_score\n",
    "import albumentations.pytorch as AP\n",
    "import pytorch_lightning as pl\n",
    "import os\n",
    "import cv2\n",
    "from tqdm import tqdm\n",
    "import albumentations as A\n",
    "import torchvision.models as models\n",
    "import torch\n",
    "import glob\n",
    "\n",
    "train_path = '../content/drive/MyDrive/Train'\n",
    "test_path = '../content/drive/MyDrive/Test'"
   ]
  },
  {
   "attachments": {},
   "cell_type": "markdown",
   "metadata": {},
   "source": [
    "### Read Data & Preprocess"
   ]
  },
  {
   "cell_type": "code",
   "execution_count": 39,
   "metadata": {},
   "outputs": [],
   "source": [
    "def preprocess_img(img, new_size=256, normalize=True, more_transforms=None):\n",
    "    transforms_list = [\n",
    "        A.SmallestMaxSize(max_size=new_size),\n",
    "        A.CenterCrop(new_size, new_size),\n",
    "    ]\n",
    "    if normalize: transforms_list.append(A.Normalize(mean=[0.277, 0.277, 0.277], std=[0.254, 0.246, 0.223]))\n",
    "    if more_transforms: transforms_list.extend(more_transforms)\n",
    "    transform = A.Compose(transforms_list)\n",
    "    img_p = transform(image=img)['image']\n",
    "    return img_p"
   ]
  },
  {
   "cell_type": "code",
   "execution_count": 35,
   "metadata": {},
   "outputs": [],
   "source": [
    "def read_data(train_path, gray=False, new_size= 256, normalize=False, transpose=False, more_transforms=None):\n",
    "    flooded_path = train_path + '/flooded/*.jpg'\n",
    "    non_flooded_path = train_path + '/non-flooded/*.jpg'\n",
    "    print(flooded_path)\n",
    "\n",
    "    x_data, y_data= [], []\n",
    "    \n",
    "    for filename in tqdm(sorted(glob.glob(flooded_path))):\n",
    "            img = cv2.imread(filename, 0 if gray else cv2.COLOR_BGR2RGB)\n",
    "            img_p = preprocess_img(img, new_size, normalize, more_transforms)\n",
    "            if transpose: img_p = img_p.transpose(2,0,1)\n",
    "            x_data.append(img_p)\n",
    "            y_data.append(1)\n",
    "\n",
    "        \n",
    "    for filename in tqdm(sorted(glob.glob(non_flooded_path))):\n",
    "            img = cv2.imread(filename, 0 if gray else cv2.COLOR_BGR2RGB)\n",
    "            img_p = preprocess_img(img, new_size, normalize,  more_transforms)\n",
    "            if transpose: img_p = img_p.transpose(2,0,1)\n",
    "            x_data.append(img_p)\n",
    "            y_data.append(0)\n",
    "\n",
    "    x_data,  y_data = np.array(x_data), np.array(y_data)\n",
    "\n",
    "    \n",
    "    return x_data, y_data\n",
    "\n",
    "\n",
    "def read_test(test_path, gray=False, new_size=256, normalize=False, transpose=False, more_transforms=None):\n",
    "        test_path = test_path + '/*.jpg'\n",
    "        \n",
    "        x_data= []\n",
    "        \n",
    "        for filename in tqdm(sorted(glob.glob(test_path))):\n",
    "                img = cv2.imread(filename, 0 if gray else cv2.COLOR_BGR2RGB)\n",
    "                img_p = preprocess_img(img, new_size, normalize, more_transforms)\n",
    "                if transpose: img_p = img_p.transpose(2,0,1)\n",
    "                x_data.append(img_p)\n",
    "        \n",
    "        x_test = np.array(x_data)\n",
    "        \n",
    "        return x_test"
   ]
  },
  {
   "attachments": {},
   "cell_type": "markdown",
   "metadata": {},
   "source": [
    "### Feature Extraction"
   ]
  },
  {
   "cell_type": "code",
   "execution_count": 29,
   "metadata": {},
   "outputs": [
    {
     "name": "stderr",
     "output_type": "stream",
     "text": [
      "/opt/anaconda3/envs/M1/lib/python3.9/site-packages/torchvision/models/_utils.py:208: UserWarning: The parameter 'pretrained' is deprecated since 0.13 and may be removed in the future, please use 'weights' instead.\n",
      "  warnings.warn(\n",
      "/opt/anaconda3/envs/M1/lib/python3.9/site-packages/torchvision/models/_utils.py:223: UserWarning: Arguments other than a weight enum or `None` for 'weights' are deprecated since 0.13 and may be removed in the future. The current behavior is equivalent to passing `weights=ShuffleNet_V2_X1_0_Weights.IMAGENET1K_V1`. You can also use `weights=ShuffleNet_V2_X1_0_Weights.DEFAULT` to get the most up-to-date weights.\n",
      "  warnings.warn(msg)\n"
     ]
    }
   ],
   "source": [
    "\n",
    "class ConvNet(pl.LightningModule):\n",
    "    '''\n",
    "    ShuffleNetV2 Model\n",
    "    '''\n",
    "    def __init__(self):\n",
    "        super(ConvNet, self).__init__()\n",
    "        self.model = models.shufflenet_v2_x1_0(pretrained=True)\n",
    "        self.model.eval()\n",
    "        \n",
    "    def forward(self, x):\n",
    "        '''\n",
    "        Forward method to pass a given input batch to the model and return its predictions\n",
    "        '''\n",
    "        x = self.model(x.unsqueeze(0))\n",
    "        return x\n",
    "\n",
    "model = ConvNet()\n",
    "\n",
    "\n",
    "def deep_features(img):\n",
    "    '''\n",
    "    Produces a feature vector for the image using a pretrained model\n",
    "    '''\n",
    "    device = torch.device(\"cuda\" if torch.cuda.is_available() else \"cpu\")\n",
    "    img = img.to(device)\n",
    "    model = ConvNet().to(device)\n",
    "    model.eval()\n",
    "    feat = model(img)\n",
    "    return feat.detach().cpu().numpy()\n",
    "\n",
    "\n",
    "\n",
    "def apply_deep_features(x_data):\n",
    "    '''\n",
    "    Simply applies the deep_feature function to each image in x_data\n",
    "    '''\n",
    "    x_data_f = []\n",
    "    for x in tqdm(x_data):\n",
    "        feat = deep_features(x)\n",
    "        feat = np.squeeze(feat)\n",
    "        x_data_f.append(feat)\n",
    "    return np.array(x_data_f)\n",
    "\n"
   ]
  },
  {
   "attachments": {},
   "cell_type": "markdown",
   "metadata": {},
   "source": [
    "### Model Pipeline"
   ]
  },
  {
   "cell_type": "code",
   "execution_count": 30,
   "metadata": {},
   "outputs": [
    {
     "name": "stdout",
     "output_type": "stream",
     "text": [
      "../DataFiles//flooded/*.jpg\n"
     ]
    },
    {
     "name": "stderr",
     "output_type": "stream",
     "text": [
      "100%|██████████| 461/461 [00:06<00:00, 76.14it/s] \n",
      "100%|██████████| 461/461 [00:33<00:00, 13.79it/s]\n",
      "/var/folders/nq/f_nplzp52qx_hrrhyg44xf4c0000gn/T/ipykernel_23311/462334224.py:23: FutureWarning: The input object of type 'Tensor' is an array-like implementing one of the corresponding protocols (`__array__`, `__array_interface__` or `__array_struct__`); but not a sequence (or 0-D). In the future, this object will be coerced as if it was first converted using `np.array(obj)`. To retain the old behaviour, you have to either modify the type 'Tensor', or assign to an empty array created with `np.empty(correct_shape, dtype=object)`.\n",
      "  x_data,  y_data = np.array(x_data), np.array(y_data)\n",
      "/var/folders/nq/f_nplzp52qx_hrrhyg44xf4c0000gn/T/ipykernel_23311/462334224.py:23: VisibleDeprecationWarning: Creating an ndarray from ragged nested sequences (which is a list-or-tuple of lists-or-tuples-or ndarrays with different lengths or shapes) is deprecated. If you meant to do this, you must specify 'dtype=object' when creating the ndarray.\n",
      "  x_data,  y_data = np.array(x_data), np.array(y_data)\n",
      "100%|██████████| 922/922 [02:47<00:00,  5.52it/s]\n"
     ]
    },
    {
     "name": "stdout",
     "output_type": "stream",
     "text": [
      "(922, 1000)\n"
     ]
    },
    {
     "data": {
      "text/html": [
       "<style>#sk-container-id-1 {color: black;background-color: white;}#sk-container-id-1 pre{padding: 0;}#sk-container-id-1 div.sk-toggleable {background-color: white;}#sk-container-id-1 label.sk-toggleable__label {cursor: pointer;display: block;width: 100%;margin-bottom: 0;padding: 0.3em;box-sizing: border-box;text-align: center;}#sk-container-id-1 label.sk-toggleable__label-arrow:before {content: \"▸\";float: left;margin-right: 0.25em;color: #696969;}#sk-container-id-1 label.sk-toggleable__label-arrow:hover:before {color: black;}#sk-container-id-1 div.sk-estimator:hover label.sk-toggleable__label-arrow:before {color: black;}#sk-container-id-1 div.sk-toggleable__content {max-height: 0;max-width: 0;overflow: hidden;text-align: left;background-color: #f0f8ff;}#sk-container-id-1 div.sk-toggleable__content pre {margin: 0.2em;color: black;border-radius: 0.25em;background-color: #f0f8ff;}#sk-container-id-1 input.sk-toggleable__control:checked~div.sk-toggleable__content {max-height: 200px;max-width: 100%;overflow: auto;}#sk-container-id-1 input.sk-toggleable__control:checked~label.sk-toggleable__label-arrow:before {content: \"▾\";}#sk-container-id-1 div.sk-estimator input.sk-toggleable__control:checked~label.sk-toggleable__label {background-color: #d4ebff;}#sk-container-id-1 div.sk-label input.sk-toggleable__control:checked~label.sk-toggleable__label {background-color: #d4ebff;}#sk-container-id-1 input.sk-hidden--visually {border: 0;clip: rect(1px 1px 1px 1px);clip: rect(1px, 1px, 1px, 1px);height: 1px;margin: -1px;overflow: hidden;padding: 0;position: absolute;width: 1px;}#sk-container-id-1 div.sk-estimator {font-family: monospace;background-color: #f0f8ff;border: 1px dotted black;border-radius: 0.25em;box-sizing: border-box;margin-bottom: 0.5em;}#sk-container-id-1 div.sk-estimator:hover {background-color: #d4ebff;}#sk-container-id-1 div.sk-parallel-item::after {content: \"\";width: 100%;border-bottom: 1px solid gray;flex-grow: 1;}#sk-container-id-1 div.sk-label:hover label.sk-toggleable__label {background-color: #d4ebff;}#sk-container-id-1 div.sk-serial::before {content: \"\";position: absolute;border-left: 1px solid gray;box-sizing: border-box;top: 0;bottom: 0;left: 50%;z-index: 0;}#sk-container-id-1 div.sk-serial {display: flex;flex-direction: column;align-items: center;background-color: white;padding-right: 0.2em;padding-left: 0.2em;position: relative;}#sk-container-id-1 div.sk-item {position: relative;z-index: 1;}#sk-container-id-1 div.sk-parallel {display: flex;align-items: stretch;justify-content: center;background-color: white;position: relative;}#sk-container-id-1 div.sk-item::before, #sk-container-id-1 div.sk-parallel-item::before {content: \"\";position: absolute;border-left: 1px solid gray;box-sizing: border-box;top: 0;bottom: 0;left: 50%;z-index: -1;}#sk-container-id-1 div.sk-parallel-item {display: flex;flex-direction: column;z-index: 1;position: relative;background-color: white;}#sk-container-id-1 div.sk-parallel-item:first-child::after {align-self: flex-end;width: 50%;}#sk-container-id-1 div.sk-parallel-item:last-child::after {align-self: flex-start;width: 50%;}#sk-container-id-1 div.sk-parallel-item:only-child::after {width: 0;}#sk-container-id-1 div.sk-dashed-wrapped {border: 1px dashed gray;margin: 0 0.4em 0.5em 0.4em;box-sizing: border-box;padding-bottom: 0.4em;background-color: white;}#sk-container-id-1 div.sk-label label {font-family: monospace;font-weight: bold;display: inline-block;line-height: 1.2em;}#sk-container-id-1 div.sk-label-container {text-align: center;}#sk-container-id-1 div.sk-container {/* jupyter's `normalize.less` sets `[hidden] { display: none; }` but bootstrap.min.css set `[hidden] { display: none !important; }` so we also need the `!important` here to be able to override the default hidden behavior on the sphinx rendered scikit-learn.org. See: https://github.com/scikit-learn/scikit-learn/issues/21755 */display: inline-block !important;position: relative;}#sk-container-id-1 div.sk-text-repr-fallback {display: none;}</style><div id=\"sk-container-id-1\" class=\"sk-top-container\"><div class=\"sk-text-repr-fallback\"><pre>SVC(C=60)</pre><b>In a Jupyter environment, please rerun this cell to show the HTML representation or trust the notebook. <br />On GitHub, the HTML representation is unable to render, please try loading this page with nbviewer.org.</b></div><div class=\"sk-container\" hidden><div class=\"sk-item\"><div class=\"sk-estimator sk-toggleable\"><input class=\"sk-toggleable__control sk-hidden--visually\" id=\"sk-estimator-id-1\" type=\"checkbox\" checked><label for=\"sk-estimator-id-1\" class=\"sk-toggleable__label sk-toggleable__label-arrow\">SVC</label><div class=\"sk-toggleable__content\"><pre>SVC(C=60)</pre></div></div></div></div></div>"
      ],
      "text/plain": [
       "SVC(C=60)"
      ]
     },
     "execution_count": 30,
     "metadata": {},
     "output_type": "execute_result"
    }
   ],
   "source": [
    "more_transforms = [AP.transforms.ToTensorV2()]          # PyTorch deals with tensors on the GPU not numpy arrays\n",
    "x_data, y_data = read_data(train_path, gray=False, normalize=True, new_size=224, more_transforms=more_transforms)\n",
    "\n",
    "x_data_f = apply_deep_features(x_data)\n",
    "\n",
    "\n",
    "model = svm.SVC(C=60, kernel='rbf')\n",
    "model.fit(x_data_f, y_data)"
   ]
  },
  {
   "cell_type": "code",
   "execution_count": 33,
   "metadata": {},
   "outputs": [
    {
     "data": {
      "text/plain": [
       "1.0"
      ]
     },
     "execution_count": 33,
     "metadata": {},
     "output_type": "execute_result"
    }
   ],
   "source": [
    "model.predict(x_data_f)\n",
    "f1_score(y_data, model.predict(x_data_f))\n",
    "\n",
    "# read svm_model.pkl\n",
    "import pickle\n",
    "with open('../content/drive/MyDrive/svm_model.pkl', 'rb') as f:\n",
    "    model = pickle.load(f)\n",
    "\n"
   ]
  },
  {
   "attachments": {},
   "cell_type": "markdown",
   "metadata": {},
   "source": [
    "#### Testing"
   ]
  },
  {
   "cell_type": "code",
   "execution_count": 36,
   "metadata": {},
   "outputs": [
    {
     "name": "stderr",
     "output_type": "stream",
     "text": [
      "100%|██████████| 922/922 [00:35<00:00, 26.30it/s] \n",
      "/var/folders/nq/f_nplzp52qx_hrrhyg44xf4c0000gn/T/ipykernel_23311/375446012.py:40: FutureWarning: The input object of type 'Tensor' is an array-like implementing one of the corresponding protocols (`__array__`, `__array_interface__` or `__array_struct__`); but not a sequence (or 0-D). In the future, this object will be coerced as if it was first converted using `np.array(obj)`. To retain the old behaviour, you have to either modify the type 'Tensor', or assign to an empty array created with `np.empty(correct_shape, dtype=object)`.\n",
      "  x_test = np.array(x_data)\n",
      "/var/folders/nq/f_nplzp52qx_hrrhyg44xf4c0000gn/T/ipykernel_23311/375446012.py:40: VisibleDeprecationWarning: Creating an ndarray from ragged nested sequences (which is a list-or-tuple of lists-or-tuples-or ndarrays with different lengths or shapes) is deprecated. If you meant to do this, you must specify 'dtype=object' when creating the ndarray.\n",
      "  x_test = np.array(x_data)\n",
      "  0%|          | 0/922 [00:00<?, ?it/s]/opt/anaconda3/envs/M1/lib/python3.9/site-packages/torchvision/models/_utils.py:208: UserWarning: The parameter 'pretrained' is deprecated since 0.13 and may be removed in the future, please use 'weights' instead.\n",
      "  warnings.warn(\n",
      "/opt/anaconda3/envs/M1/lib/python3.9/site-packages/torchvision/models/_utils.py:223: UserWarning: Arguments other than a weight enum or `None` for 'weights' are deprecated since 0.13 and may be removed in the future. The current behavior is equivalent to passing `weights=ShuffleNet_V2_X1_0_Weights.IMAGENET1K_V1`. You can also use `weights=ShuffleNet_V2_X1_0_Weights.DEFAULT` to get the most up-to-date weights.\n",
      "  warnings.warn(msg)\n",
      "100%|██████████| 922/922 [02:18<00:00,  6.65it/s]\n"
     ]
    }
   ],
   "source": [
    "x_test = read_test(test_path, gray=False, normalize=True, new_size=224, more_transforms=more_transforms)\n",
    "x_test_f = apply_deep_features(x_test)\n",
    "model.predict(x_test_f)\n",
    "\n",
    "with open('predictions.txt', 'w') as f:\n",
    "    for pred in model.predict(x_test_f):\n",
    "        f.write(str(pred) + '\\n')"
   ]
  }
 ],
 "metadata": {
  "kernelspec": {
   "display_name": "M1",
   "language": "python",
   "name": "python3"
  },
  "language_info": {
   "codemirror_mode": {
    "name": "ipython",
    "version": 3
   },
   "file_extension": ".py",
   "mimetype": "text/x-python",
   "name": "python",
   "nbconvert_exporter": "python",
   "pygments_lexer": "ipython3",
   "version": "3.9.16"
  },
  "orig_nbformat": 4
 },
 "nbformat": 4,
 "nbformat_minor": 2
}
