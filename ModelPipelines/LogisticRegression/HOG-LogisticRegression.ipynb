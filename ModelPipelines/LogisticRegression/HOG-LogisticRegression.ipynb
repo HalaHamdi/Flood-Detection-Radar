{
 "cells": [
  {
   "cell_type": "code",
   "execution_count": 1,
   "metadata": {},
   "outputs": [],
   "source": [
    "try:\n",
    "    import google.colab\n",
    "    google.colab.drive.mount('/content/drive/')\n",
    "    %cd ../content/drive/Othercomputers/Laptop/Flood_Detection\n",
    "except:\n",
    "    pass"
   ]
  },
  {
   "cell_type": "code",
   "execution_count": 2,
   "metadata": {},
   "outputs": [],
   "source": [
    "import sys; sys.path.append('../../')\n",
    "from sklearn.linear_model import LogisticRegression\n",
    "from sklearn import metrics\n",
    "from mlpath import mlquest as mlq\n",
    "from DataPreparation.DataPreparation import read_data\n",
    "from FeatureExtraction.Hist.Hist import apply_hist\n",
    "from sklearn.metrics import classification_report\n",
    "mlq.start_quest(\"HOG-LR\", table_dest=\"../../\", log_defs=True)\n",
    "sys.path.append('../')\n",
    "from FeatureExtraction.SimpleFeatures.SimpleFeatures import *"
   ]
  },
  {
   "attachments": {},
   "cell_type": "markdown",
   "metadata": {},
   "source": [
    "### Reading and Preprocessing"
   ]
  },
  {
   "cell_type": "code",
   "execution_count": 3,
   "metadata": {},
   "outputs": [
    {
     "name": "stdout",
     "output_type": "stream",
     "text": [
      "x_train shape:  (737, 256, 256)\n",
      "x_val shape:  (185, 256, 256)\n"
     ]
    }
   ],
   "source": [
    "x_train_d, x_val_d, y_train_d, y_val_d = mlq.l(read_data)(gray=True,saved=True)"
   ]
  },
  {
   "attachments": {},
   "cell_type": "markdown",
   "metadata": {},
   "source": [
    "### Feature Extraction: HOG Features"
   ]
  },
  {
   "cell_type": "code",
   "execution_count": 4,
   "metadata": {},
   "outputs": [],
   "source": [
    "x_train_f = mlq.l(get_hog)(x_train_d)\n",
    "x_val_f= mlq.l(get_hog)(x_val_d)"
   ]
  },
  {
   "attachments": {},
   "cell_type": "markdown",
   "metadata": {},
   "source": [
    "### Dimensionality Reduction: PCA"
   ]
  },
  {
   "cell_type": "code",
   "execution_count": 5,
   "metadata": {},
   "outputs": [],
   "source": [
    "pca,x_train_f=mlq.l(apply_pca)(x_train_f,n_components=512,pca_obj=None)\n",
    "x_val_f=mlq.l(apply_pca)(x_val_f,n_components=512,pca_obj=pca)"
   ]
  },
  {
   "attachments": {},
   "cell_type": "markdown",
   "metadata": {},
   "source": [
    "### Initiating the Model"
   ]
  },
  {
   "cell_type": "code",
   "execution_count": 6,
   "metadata": {},
   "outputs": [],
   "source": [
    "model = mlq.l(LogisticRegression)(penalty='l2', C=7)"
   ]
  },
  {
   "attachments": {},
   "cell_type": "markdown",
   "metadata": {},
   "source": [
    "### Training the Model"
   ]
  },
  {
   "cell_type": "code",
   "execution_count": 7,
   "metadata": {},
   "outputs": [
    {
     "name": "stderr",
     "output_type": "stream",
     "text": [
      "c:\\Users\\hp\\AppData\\Local\\Programs\\Python\\Python311\\Lib\\site-packages\\sklearn\\linear_model\\_logistic.py:458: ConvergenceWarning: lbfgs failed to converge (status=1):\n",
      "STOP: TOTAL NO. of ITERATIONS REACHED LIMIT.\n",
      "\n",
      "Increase the number of iterations (max_iter) or scale the data as shown in:\n",
      "    https://scikit-learn.org/stable/modules/preprocessing.html\n",
      "Please also refer to the documentation for alternative solver options:\n",
      "    https://scikit-learn.org/stable/modules/linear_model.html#logistic-regression\n",
      "  n_iter_i = _check_optimize_result(\n"
     ]
    },
    {
     "data": {
      "text/html": [
       "<style>#sk-container-id-1 {color: black;background-color: white;}#sk-container-id-1 pre{padding: 0;}#sk-container-id-1 div.sk-toggleable {background-color: white;}#sk-container-id-1 label.sk-toggleable__label {cursor: pointer;display: block;width: 100%;margin-bottom: 0;padding: 0.3em;box-sizing: border-box;text-align: center;}#sk-container-id-1 label.sk-toggleable__label-arrow:before {content: \"▸\";float: left;margin-right: 0.25em;color: #696969;}#sk-container-id-1 label.sk-toggleable__label-arrow:hover:before {color: black;}#sk-container-id-1 div.sk-estimator:hover label.sk-toggleable__label-arrow:before {color: black;}#sk-container-id-1 div.sk-toggleable__content {max-height: 0;max-width: 0;overflow: hidden;text-align: left;background-color: #f0f8ff;}#sk-container-id-1 div.sk-toggleable__content pre {margin: 0.2em;color: black;border-radius: 0.25em;background-color: #f0f8ff;}#sk-container-id-1 input.sk-toggleable__control:checked~div.sk-toggleable__content {max-height: 200px;max-width: 100%;overflow: auto;}#sk-container-id-1 input.sk-toggleable__control:checked~label.sk-toggleable__label-arrow:before {content: \"▾\";}#sk-container-id-1 div.sk-estimator input.sk-toggleable__control:checked~label.sk-toggleable__label {background-color: #d4ebff;}#sk-container-id-1 div.sk-label input.sk-toggleable__control:checked~label.sk-toggleable__label {background-color: #d4ebff;}#sk-container-id-1 input.sk-hidden--visually {border: 0;clip: rect(1px 1px 1px 1px);clip: rect(1px, 1px, 1px, 1px);height: 1px;margin: -1px;overflow: hidden;padding: 0;position: absolute;width: 1px;}#sk-container-id-1 div.sk-estimator {font-family: monospace;background-color: #f0f8ff;border: 1px dotted black;border-radius: 0.25em;box-sizing: border-box;margin-bottom: 0.5em;}#sk-container-id-1 div.sk-estimator:hover {background-color: #d4ebff;}#sk-container-id-1 div.sk-parallel-item::after {content: \"\";width: 100%;border-bottom: 1px solid gray;flex-grow: 1;}#sk-container-id-1 div.sk-label:hover label.sk-toggleable__label {background-color: #d4ebff;}#sk-container-id-1 div.sk-serial::before {content: \"\";position: absolute;border-left: 1px solid gray;box-sizing: border-box;top: 0;bottom: 0;left: 50%;z-index: 0;}#sk-container-id-1 div.sk-serial {display: flex;flex-direction: column;align-items: center;background-color: white;padding-right: 0.2em;padding-left: 0.2em;position: relative;}#sk-container-id-1 div.sk-item {position: relative;z-index: 1;}#sk-container-id-1 div.sk-parallel {display: flex;align-items: stretch;justify-content: center;background-color: white;position: relative;}#sk-container-id-1 div.sk-item::before, #sk-container-id-1 div.sk-parallel-item::before {content: \"\";position: absolute;border-left: 1px solid gray;box-sizing: border-box;top: 0;bottom: 0;left: 50%;z-index: -1;}#sk-container-id-1 div.sk-parallel-item {display: flex;flex-direction: column;z-index: 1;position: relative;background-color: white;}#sk-container-id-1 div.sk-parallel-item:first-child::after {align-self: flex-end;width: 50%;}#sk-container-id-1 div.sk-parallel-item:last-child::after {align-self: flex-start;width: 50%;}#sk-container-id-1 div.sk-parallel-item:only-child::after {width: 0;}#sk-container-id-1 div.sk-dashed-wrapped {border: 1px dashed gray;margin: 0 0.4em 0.5em 0.4em;box-sizing: border-box;padding-bottom: 0.4em;background-color: white;}#sk-container-id-1 div.sk-label label {font-family: monospace;font-weight: bold;display: inline-block;line-height: 1.2em;}#sk-container-id-1 div.sk-label-container {text-align: center;}#sk-container-id-1 div.sk-container {/* jupyter's `normalize.less` sets `[hidden] { display: none; }` but bootstrap.min.css set `[hidden] { display: none !important; }` so we also need the `!important` here to be able to override the default hidden behavior on the sphinx rendered scikit-learn.org. See: https://github.com/scikit-learn/scikit-learn/issues/21755 */display: inline-block !important;position: relative;}#sk-container-id-1 div.sk-text-repr-fallback {display: none;}</style><div id=\"sk-container-id-1\" class=\"sk-top-container\"><div class=\"sk-text-repr-fallback\"><pre>LogisticRegression(C=7)</pre><b>In a Jupyter environment, please rerun this cell to show the HTML representation or trust the notebook. <br />On GitHub, the HTML representation is unable to render, please try loading this page with nbviewer.org.</b></div><div class=\"sk-container\" hidden><div class=\"sk-item\"><div class=\"sk-estimator sk-toggleable\"><input class=\"sk-toggleable__control sk-hidden--visually\" id=\"sk-estimator-id-1\" type=\"checkbox\" checked><label for=\"sk-estimator-id-1\" class=\"sk-toggleable__label sk-toggleable__label-arrow\">LogisticRegression</label><div class=\"sk-toggleable__content\"><pre>LogisticRegression(C=7)</pre></div></div></div></div></div>"
      ],
      "text/plain": [
       "LogisticRegression(C=7)"
      ]
     },
     "execution_count": 7,
     "metadata": {},
     "output_type": "execute_result"
    }
   ],
   "source": [
    "model.fit(x_train_f, y_train_d)"
   ]
  },
  {
   "attachments": {},
   "cell_type": "markdown",
   "metadata": {},
   "source": [
    "### Validating the Model"
   ]
  },
  {
   "cell_type": "code",
   "execution_count": 8,
   "metadata": {},
   "outputs": [
    {
     "name": "stdout",
     "output_type": "stream",
     "text": [
      "              precision    recall  f1-score   support\n",
      "\n",
      "           0       0.78      0.87      0.83        87\n",
      "           1       0.88      0.79      0.83        98\n",
      "\n",
      "    accuracy                           0.83       185\n",
      "   macro avg       0.83      0.83      0.83       185\n",
      "weighted avg       0.83      0.83      0.83       185\n",
      "\n"
     ]
    }
   ],
   "source": [
    "F1 = metrics.f1_score(y_val_d, model.predict(x_val_f), average='macro').item()\n",
    "Accuracy = metrics.accuracy_score(y_val_d, model.predict(x_val_f)).item()\n",
    "mlq.log_metrics(Accuracy, F1)\n",
    "report = classification_report(y_val_d, model.predict(x_val_f))\n",
    "print(report)"
   ]
  },
  {
   "attachments": {},
   "cell_type": "markdown",
   "metadata": {},
   "source": [
    "### Tracking"
   ]
  },
  {
   "cell_type": "code",
   "execution_count": 9,
   "metadata": {},
   "outputs": [
    {
     "data": {
      "text/html": [
       "<table>\n",
       "<tr>\n",
       "<th colspan=4 style=\"text-align: center; vertical-align: middle;\">info</th>\n",
       "<th colspan=5 style=\"text-align: center; vertical-align: middle;\">read_data</th>\n",
       "<th colspan=2 style=\"text-align: center; vertical-align: middle;\">get_hog</th>\n",
       "<th colspan=11 style=\"text-align: center; vertical-align: middle;\">LogisticRegression</th>\n",
       "<th colspan=2 style=\"text-align: center; vertical-align: middle;\">metrics</th>\n",
       "<th colspan=2 style=\"text-align: center; vertical-align: middle;\">apply_pca</th>\n",
       "</tr>\n",
       "<th style=\"text-align: center; vertical-align: middle;\">time</th>\n",
       "<th style=\"text-align: center; vertical-align: middle;\">date</th>\n",
       "<th style=\"text-align: center; vertical-align: middle;\">duration</th>\n",
       "<th style=\"text-align: center; vertical-align: middle;\">id</th>\n",
       "<th style=\"text-align: center; vertical-align: middle;\">gray</th>\n",
       "<th style=\"text-align: center; vertical-align: middle;\">saved</th>\n",
       "<th style=\"text-align: center; vertical-align: middle;\">new_size</th>\n",
       "<th style=\"text-align: center; vertical-align: middle;\">normalize</th>\n",
       "<th style=\"text-align: center; vertical-align: middle;\">transpose</th>\n",
       "<th style=\"text-align: center; vertical-align: middle;\">orientation</th>\n",
       "<th style=\"text-align: center; vertical-align: middle;\">block_norm</th>\n",
       "<th style=\"text-align: center; vertical-align: middle;\">penalty</th>\n",
       "<th style=\"text-align: center; vertical-align: middle;\">C</th>\n",
       "<th style=\"text-align: center; vertical-align: middle;\">dual</th>\n",
       "<th style=\"text-align: center; vertical-align: middle;\">tol</th>\n",
       "<th style=\"text-align: center; vertical-align: middle;\">fit_intercept</th>\n",
       "<th style=\"text-align: center; vertical-align: middle;\">intercept_scaling</th>\n",
       "<th style=\"text-align: center; vertical-align: middle;\">solver</th>\n",
       "<th style=\"text-align: center; vertical-align: middle;\">max_iter</th>\n",
       "<th style=\"text-align: center; vertical-align: middle;\">multi_class</th>\n",
       "<th style=\"text-align: center; vertical-align: middle;\">verbose</th>\n",
       "<th style=\"text-align: center; vertical-align: middle;\">warm_start</th>\n",
       "<th style=\"text-align: center; vertical-align: middle;\">Accuracy</th>\n",
       "<th style=\"text-align: center; vertical-align: middle;\">F1</th>\n",
       "<th style=\"text-align: center; vertical-align: middle;\">n_components</th>\n",
       "<th style=\"text-align: center; vertical-align: middle;\">pca_obj</th>\n",
       "</tr>\n",
       "<tr>\n",
       "<td style=\"text-align: center; vertical-align: middle;\"> <font color=white>14:00:56</font></td>\n",
       "<td style=\"text-align: center; vertical-align: middle;\"> <font color=white>05/20/23</font></td>\n",
       "<td style=\"text-align: center; vertical-align: middle;\"> <font color=white>41.84 s</font></td>\n",
       "<td style=\"text-align: center; vertical-align: middle;\"> <font color=white>1</font></td>\n",
       "<td style=\"text-align: center; vertical-align: middle;\"> <font color=white>True</font></td>\n",
       "<td style=\"text-align: center; vertical-align: middle;\"> <font color=white>True</font></td>\n",
       "<td style=\"text-align: center; vertical-align: middle;\"> <font color=white>256</font></td>\n",
       "<td style=\"text-align: center; vertical-align: middle;\"> <font color=white>False</font></td>\n",
       "<td style=\"text-align: center; vertical-align: middle;\"> <font color=white>False</font></td>\n",
       "<td style=\"text-align: center; vertical-align: middle;\"> <font color=white>9</font></td>\n",
       "<td style=\"text-align: center; vertical-align: middle;\"> <font color=white>L2-Hys</font></td>\n",
       "<td style=\"text-align: center; vertical-align: middle;\"> <font color=white>l2</font></td>\n",
       "<td style=\"text-align: center; vertical-align: middle;\"> <font color=white>7</font></td>\n",
       "<td style=\"text-align: center; vertical-align: middle;\"> <font color=white>False</font></td>\n",
       "<td style=\"text-align: center; vertical-align: middle;\"> <font color=white>0.0</font></td>\n",
       "<td style=\"text-align: center; vertical-align: middle;\"> <font color=white>True</font></td>\n",
       "<td style=\"text-align: center; vertical-align: middle;\"> <font color=white>1</font></td>\n",
       "<td style=\"text-align: center; vertical-align: middle;\"> <font color=white>lbfgs</font></td>\n",
       "<td style=\"text-align: center; vertical-align: middle;\"> <font color=white>100</font></td>\n",
       "<td style=\"text-align: center; vertical-align: middle;\"> <font color=white>auto</font></td>\n",
       "<td style=\"text-align: center; vertical-align: middle;\"> <font color=white>0</font></td>\n",
       "<td style=\"text-align: center; vertical-align: middle;\"> <font color=white>False</font></td>\n",
       "<td style=\"text-align: center; vertical-align: middle;\"> <font color=white>0.8378378378378378</font></td>\n",
       "<td style=\"text-align: center; vertical-align: middle;\"> <font color=white>0.8378330995792427</font></td>\n",
       "<td style=\"text-align: center; vertical-align: middle;\"> <font color=white>128</font></td>\n",
       "<td style=\"text-align: center; vertical-align: middle;\"> <font color=white>PCA(n_components=128)</font></td>\n",
       "</tr>\n",
       "<tr>\n",
       "<td style=\"text-align: center; vertical-align: middle;\"> <font color=white>14:03:21</font></td>\n",
       "<td style=\"text-align: center; vertical-align: middle;\"> <font color=white>05/20/23</font></td>\n",
       "<td style=\"text-align: center; vertical-align: middle;\"> <font color=white>34.20 s</font></td>\n",
       "<td style=\"text-align: center; vertical-align: middle;\"> <font color=white>2</font></td>\n",
       "<td style=\"text-align: center; vertical-align: middle;\"> <font color=white>True</font></td>\n",
       "<td style=\"text-align: center; vertical-align: middle;\"> <font color=white>True</font></td>\n",
       "<td style=\"text-align: center; vertical-align: middle;\"> <font color=white>256</font></td>\n",
       "<td style=\"text-align: center; vertical-align: middle;\"> <font color=white>False</font></td>\n",
       "<td style=\"text-align: center; vertical-align: middle;\"> <font color=white>False</font></td>\n",
       "<td style=\"text-align: center; vertical-align: middle;\"> <font color=white>9</font></td>\n",
       "<td style=\"text-align: center; vertical-align: middle;\"> <font color=white>L2-Hys</font></td>\n",
       "<td style=\"text-align: center; vertical-align: middle;\"> <font color=white>l2</font></td>\n",
       "<td style=\"text-align: center; vertical-align: middle;\"> <font color=white>7</font></td>\n",
       "<td style=\"text-align: center; vertical-align: middle;\"> <font color=white>False</font></td>\n",
       "<td style=\"text-align: center; vertical-align: middle;\"> <font color=white>0.0</font></td>\n",
       "<td style=\"text-align: center; vertical-align: middle;\"> <font color=white>True</font></td>\n",
       "<td style=\"text-align: center; vertical-align: middle;\"> <font color=white>1</font></td>\n",
       "<td style=\"text-align: center; vertical-align: middle;\"> <font color=white>lbfgs</font></td>\n",
       "<td style=\"text-align: center; vertical-align: middle;\"> <font color=white>100</font></td>\n",
       "<td style=\"text-align: center; vertical-align: middle;\"> <font color=white>auto</font></td>\n",
       "<td style=\"text-align: center; vertical-align: middle;\"> <font color=white>0</font></td>\n",
       "<td style=\"text-align: center; vertical-align: middle;\"> <font color=white>False</font></td>\n",
       "<td style=\"text-align: center; vertical-align: middle;\"> <font color=yellow>0.8540540540540541</font></td>\n",
       "<td style=\"text-align: center; vertical-align: middle;\"> <font color=yellow>0.8540369948277373</font></td>\n",
       "<td style=\"text-align: center; vertical-align: middle;\"> <font color=yellow>512</font></td>\n",
       "<td style=\"text-align: center; vertical-align: middle;\"> <font color=yellow>PCA(n_components=512)</font></td>\n",
       "</tr>\n",
       "<tr>\n",
       "<td style=\"text-align: center; vertical-align: middle;\"> <font color=white>14:18:49</font></td>\n",
       "<td style=\"text-align: center; vertical-align: middle;\"> <font color=white>05/20/23</font></td>\n",
       "<td style=\"text-align: center; vertical-align: middle;\"> <font color=white>29.63 s</font></td>\n",
       "<td style=\"text-align: center; vertical-align: middle;\"> <font color=white>3</font></td>\n",
       "<td style=\"text-align: center; vertical-align: middle;\"> <font color=white>True</font></td>\n",
       "<td style=\"text-align: center; vertical-align: middle;\"> <font color=white>True</font></td>\n",
       "<td style=\"text-align: center; vertical-align: middle;\"> <font color=white>256</font></td>\n",
       "<td style=\"text-align: center; vertical-align: middle;\"> <font color=white>False</font></td>\n",
       "<td style=\"text-align: center; vertical-align: middle;\"> <font color=white>False</font></td>\n",
       "<td style=\"text-align: center; vertical-align: middle;\"> <font color=white>9</font></td>\n",
       "<td style=\"text-align: center; vertical-align: middle;\"> <font color=white>L2-Hys</font></td>\n",
       "<td style=\"text-align: center; vertical-align: middle;\"> <font color=white>l2</font></td>\n",
       "<td style=\"text-align: center; vertical-align: middle;\"> <font color=white>7</font></td>\n",
       "<td style=\"text-align: center; vertical-align: middle;\"> <font color=white>False</font></td>\n",
       "<td style=\"text-align: center; vertical-align: middle;\"> <font color=white>0.0</font></td>\n",
       "<td style=\"text-align: center; vertical-align: middle;\"> <font color=white>True</font></td>\n",
       "<td style=\"text-align: center; vertical-align: middle;\"> <font color=white>1</font></td>\n",
       "<td style=\"text-align: center; vertical-align: middle;\"> <font color=white>lbfgs</font></td>\n",
       "<td style=\"text-align: center; vertical-align: middle;\"> <font color=white>100</font></td>\n",
       "<td style=\"text-align: center; vertical-align: middle;\"> <font color=white>auto</font></td>\n",
       "<td style=\"text-align: center; vertical-align: middle;\"> <font color=white>0</font></td>\n",
       "<td style=\"text-align: center; vertical-align: middle;\"> <font color=white>False</font></td>\n",
       "<td style=\"text-align: center; vertical-align: middle;\"> <font color=yellow>0.827027027027027</font></td>\n",
       "<td style=\"text-align: center; vertical-align: middle;\"> <font color=yellow>0.8270219728845254</font></td>\n",
       "<td style=\"text-align: center; vertical-align: middle;\"> <font color=yellow>185</font></td>\n",
       "<td style=\"text-align: center; vertical-align: middle;\"> <font color=yellow>PCA(n_components=737)</font></td>\n",
       "</tr>\n",
       "<tr>\n",
       "<td style=\"text-align: center; vertical-align: middle;\"> <font color=white>14:21:14</font></td>\n",
       "<td style=\"text-align: center; vertical-align: middle;\"> <font color=white>05/20/23</font></td>\n",
       "<td style=\"text-align: center; vertical-align: middle;\"> <font color=white>20.62 s</font></td>\n",
       "<td style=\"text-align: center; vertical-align: middle;\"> <font color=white>4</font></td>\n",
       "<td style=\"text-align: center; vertical-align: middle;\"> <font color=white>True</font></td>\n",
       "<td style=\"text-align: center; vertical-align: middle;\"> <font color=white>True</font></td>\n",
       "<td style=\"text-align: center; vertical-align: middle;\"> <font color=white>256</font></td>\n",
       "<td style=\"text-align: center; vertical-align: middle;\"> <font color=white>False</font></td>\n",
       "<td style=\"text-align: center; vertical-align: middle;\"> <font color=white>False</font></td>\n",
       "<td style=\"text-align: center; vertical-align: middle;\"> <font color=white>9</font></td>\n",
       "<td style=\"text-align: center; vertical-align: middle;\"> <font color=white>L2-Hys</font></td>\n",
       "<td style=\"text-align: center; vertical-align: middle;\"> <font color=white>l2</font></td>\n",
       "<td style=\"text-align: center; vertical-align: middle;\"> <font color=white>7</font></td>\n",
       "<td style=\"text-align: center; vertical-align: middle;\"> <font color=white>False</font></td>\n",
       "<td style=\"text-align: center; vertical-align: middle;\"> <font color=white>0.0</font></td>\n",
       "<td style=\"text-align: center; vertical-align: middle;\"> <font color=white>True</font></td>\n",
       "<td style=\"text-align: center; vertical-align: middle;\"> <font color=white>1</font></td>\n",
       "<td style=\"text-align: center; vertical-align: middle;\"> <font color=white>lbfgs</font></td>\n",
       "<td style=\"text-align: center; vertical-align: middle;\"> <font color=white>100</font></td>\n",
       "<td style=\"text-align: center; vertical-align: middle;\"> <font color=white>auto</font></td>\n",
       "<td style=\"text-align: center; vertical-align: middle;\"> <font color=white>0</font></td>\n",
       "<td style=\"text-align: center; vertical-align: middle;\"> <font color=white>False</font></td>\n",
       "<td style=\"text-align: center; vertical-align: middle;\"> <font color=white>0.827027027027027</font></td>\n",
       "<td style=\"text-align: center; vertical-align: middle;\"> <font color=yellow>0.8270219728845255</font></td>\n",
       "<td style=\"text-align: center; vertical-align: middle;\"> <font color=yellow></font></td>\n",
       "<td style=\"text-align: center; vertical-align: middle;\"> <font color=yellow></font></td>\n",
       "</tr>\n"
      ],
      "text/plain": [
       "<IPython.core.display.HTML object>"
      ]
     },
     "metadata": {},
     "output_type": "display_data"
    }
   ],
   "source": [
    "mlq.end_quest()\n",
    "mlq.show_logs(quest_name='HOG-LR', table_dest='../../', last_k=5)"
   ]
  }
 ],
 "metadata": {
  "kernelspec": {
   "display_name": "arm",
   "language": "python",
   "name": "python3"
  },
  "language_info": {
   "codemirror_mode": {
    "name": "ipython",
    "version": 3
   },
   "file_extension": ".py",
   "mimetype": "text/x-python",
   "name": "python",
   "nbconvert_exporter": "python",
   "pygments_lexer": "ipython3",
   "version": "3.11.1"
  },
  "orig_nbformat": 4
 },
 "nbformat": 4,
 "nbformat_minor": 2
}
